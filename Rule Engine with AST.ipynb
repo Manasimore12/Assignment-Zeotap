{
 "cells": [
  {
   "cell_type": "code",
   "execution_count": 3,
   "id": "dcb53b48",
   "metadata": {},
   "outputs": [
    {
     "name": "stdout",
     "output_type": "stream",
     "text": [
      "Requirement already satisfied: numpy in c:\\users\\manasi\\anaconda3\\lib\\site-packages (1.24.3)\n"
     ]
    }
   ],
   "source": [
    "!pip install numpy"
   ]
  },
  {
   "cell_type": "code",
   "execution_count": 13,
   "id": "abd17011",
   "metadata": {},
   "outputs": [
    {
     "name": "stdout",
     "output_type": "stream",
     "text": [
      "Enter your rule: x==10\n",
      "Enter variable name: x\n",
      "Enter value for x: 10\n",
      "Result of the rule 'x==10' is: True\n"
     ]
    }
   ],
   "source": [
    "import ast\n",
    "\n",
    "# Define a class to evaluate the AST\n",
    "class RuleEngine(ast.NodeVisitor):\n",
    "    def __init__(self, variables):\n",
    "        self.variables = variables  # The variables will be used for rule conditions\n",
    "    \n",
    "    def visit_Module(self, node):\n",
    "        for stmt in node.body:\n",
    "            self.visit(stmt)\n",
    "    \n",
    "    def visit_Expr(self, node):\n",
    "        return self.visit(node.value)\n",
    "    \n",
    "    def visit_Compare(self, node):\n",
    "        left = self.visit(node.left)\n",
    "        right = self.visit(node.comparators[0])\n",
    "        if isinstance(node.ops[0], ast.Gt):\n",
    "            return left > right\n",
    "        elif isinstance(node.ops[0], ast.Lt):\n",
    "            return left < right\n",
    "        elif isinstance(node.ops[0], ast.Eq):\n",
    "            return left == right\n",
    "    \n",
    "    def visit_Name(self, node):\n",
    "        return self.variables.get(node.id)\n",
    "    \n",
    "    def visit_Constant(self, node):\n",
    "        return node.value\n",
    "\n",
    "# Get rule input from user\n",
    "rule = input(\"Enter your rule: \")\n",
    "\n",
    "# Get variable input from user (currently supports one variable for simplicity)\n",
    "var_name = input(\"Enter variable name: \")\n",
    "var_value = int(input(f\"Enter value for {var_name}: \"))\n",
    "\n",
    "# Parse the rule into an AST\n",
    "rule_ast = ast.parse(rule, mode='eval')\n",
    "\n",
    "# Create the rule engine with user-provided variables\n",
    "variables = {var_name: var_value}\n",
    "engine = RuleEngine(variables)\n",
    "\n",
    "# Evaluate the rule\n",
    "result = engine.visit(rule_ast.body)\n",
    "\n",
    "print(f\"Result of the rule '{rule}' is: {result}\")\n"
   ]
  },
  {
   "cell_type": "code",
   "execution_count": 14,
   "id": "ed147192",
   "metadata": {},
   "outputs": [
    {
     "name": "stdout",
     "output_type": "stream",
     "text": [
      "Enter your rules (type 'stop' to finish):\n",
      "Enter rule: x>1\n",
      "Enter rule: x<10\n",
      "Enter rule: y<5\n",
      "Enter rule: y>1\n",
      "Enter rule: stop\n",
      "Enter variables (type 'stop' to finish):\n",
      "Enter variable name: x\n",
      "Enter value for x: 4\n",
      "Enter variable name: y\n",
      "Enter value for y: 6\n",
      "Enter variable name: stop\n",
      "Rule 'x>1' evaluated to: True\n",
      "Rule 'x<10' evaluated to: True\n",
      "Rule 'y<5' evaluated to: False\n",
      "Rule 'y>1' evaluated to: True\n"
     ]
    }
   ],
   "source": [
    "import ast\n",
    "\n",
    "# Define the RuleEngine class for evaluating the AST\n",
    "class RuleEngine(ast.NodeVisitor):\n",
    "    def __init__(self, variables):\n",
    "        self.variables = variables  # The variables will be used for rule conditions\n",
    "    \n",
    "    def visit_Module(self, node):\n",
    "        for stmt in node.body:\n",
    "            self.visit(stmt)\n",
    "    \n",
    "    def visit_Expr(self, node):\n",
    "        return self.visit(node.value)\n",
    "    \n",
    "    def visit_Compare(self, node):\n",
    "        left = self.visit(node.left)\n",
    "        right = self.visit(node.comparators[0])\n",
    "        if isinstance(node.ops[0], ast.Gt):\n",
    "            return left > right\n",
    "        elif isinstance(node.ops[0], ast.Lt):\n",
    "            return left < right\n",
    "        elif isinstance(node.ops[0], ast.Eq):\n",
    "            return left == right\n",
    "    \n",
    "    def visit_Name(self, node):\n",
    "        return self.variables.get(node.id)\n",
    "    \n",
    "    def visit_Constant(self, node):\n",
    "        return node.value\n",
    "\n",
    "# Function to accept multiple rules\n",
    "def get_rules():\n",
    "    rules = []\n",
    "    print(\"Enter your rules (type 'stop' to finish):\")\n",
    "    while True:\n",
    "        rule = input(\"Enter rule: \")\n",
    "        if rule.lower() == \"stop\":\n",
    "            break\n",
    "        rules.append(rule)\n",
    "    return rules\n",
    "\n",
    "# Function to accept variables\n",
    "def get_variables():\n",
    "    variables = {}\n",
    "    print(\"Enter variables (type 'stop' to finish):\")\n",
    "    while True:\n",
    "        var_name = input(\"Enter variable name: \")\n",
    "        if var_name.lower() == \"stop\":\n",
    "            break\n",
    "        var_value = int(input(f\"Enter value for {var_name}: \"))\n",
    "        variables[var_name] = var_value\n",
    "    return variables\n",
    "\n",
    "# Main code\n",
    "rules = get_rules()  # Get multiple rules from the user\n",
    "variables = get_variables()  # Get variables from the user\n",
    "\n",
    "# Evaluate each rule\n",
    "for rule in rules:\n",
    "    try:\n",
    "        rule_ast = ast.parse(rule, mode='eval')  # Parse the rule into an AST\n",
    "        engine = RuleEngine(variables)  # Create the rule engine with the variables\n",
    "        result = engine.visit(rule_ast.body)  # Evaluate the rule\n",
    "        print(f\"Rule '{rule}' evaluated to: {result}\")\n",
    "    except Exception as e:\n",
    "        print(f\"Error evaluating rule '{rule}': {e}\")\n"
   ]
  },
  {
   "cell_type": "code",
   "execution_count": null,
   "id": "14ffe907",
   "metadata": {},
   "outputs": [],
   "source": []
  }
 ],
 "metadata": {
  "kernelspec": {
   "display_name": "Python 3 (ipykernel)",
   "language": "python",
   "name": "python3"
  },
  "language_info": {
   "codemirror_mode": {
    "name": "ipython",
    "version": 3
   },
   "file_extension": ".py",
   "mimetype": "text/x-python",
   "name": "python",
   "nbconvert_exporter": "python",
   "pygments_lexer": "ipython3",
   "version": "3.11.5"
  }
 },
 "nbformat": 4,
 "nbformat_minor": 5
}
